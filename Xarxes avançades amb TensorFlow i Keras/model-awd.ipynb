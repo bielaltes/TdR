{
 "cells": [
  {
   "cell_type": "code",
   "execution_count": 2,
   "metadata": {},
   "outputs": [
    {
     "name": "stdout",
     "output_type": "stream",
     "text": [
      "2.1.0\n",
      "[PhysicalDevice(name='/physical_device:GPU:0', device_type='GPU')]\n",
      "Num GPUs Available:  1\n",
      "2.2.4-tf\n"
     ]
    }
   ],
   "source": [
    "import tensorflow as tf\n",
    "print(tf.__version__)\n",
    "print(tf.config.list_physical_devices('GPU'))\n",
    "print(\"Num GPUs Available: \", len(tf.config.experimental.list_physical_devices('GPU')))\n",
    "import numpy as np\n",
    "import matplotlib.pyplot as plt\n",
    "import cv2\n",
    "from tensorflow import keras\n",
    "print(keras.__version__)"
   ]
  },
  {
   "cell_type": "code",
   "execution_count": null,
   "metadata": {},
   "outputs": [],
   "source": [
    "gpus = tf.config.experimental.list_physical_devices('GPU')\n",
    "if gpus:\n",
    "    # Restrict TensorFlow to only allocate 1GB * 2 of memory on the first GPU\n",
    "    try:\n",
    "        tf.config.experimental.set_virtual_device_configuration(\n",
    "            gpus[0],\n",
    "            [tf.config.experimental.VirtualDeviceConfiguration(memory_limit=1024 * 2)])\n",
    "        logical_gpus = tf.config.experimental.list_logical_devices('GPU')\n",
    "        print(len(gpus), \"Physical GPUs,\", len(logical_gpus), \"Logical GPUs\")\n",
    "    except RuntimeError as e:\n",
    "        # Virtual devices must be set before GPUs have been initialized\n",
    "        print(e)"
   ]
  },
  {
   "cell_type": "code",
   "execution_count": 3,
   "metadata": {},
   "outputs": [],
   "source": [
    "\n",
    "training_data = np.load('training_data.npy', allow_pickle=True)\n",
    "x_train = []\n",
    "y_train = []\n",
    "\n",
    "for x in range(len(training_data)):\n",
    "    x_train.append(training_data[x][0])\n",
    "    y_train.append(training_data[x][1][:3])\n",
    "    \n",
    "x_train = np.array(x_train, dtype=np.float16)\n",
    "y_train = np.array(y_train, dtype=np.float16)\n",
    "\n"
   ]
  },
  {
   "cell_type": "code",
   "execution_count": 4,
   "metadata": {},
   "outputs": [
    {
     "name": "stdout",
     "output_type": "stream",
     "text": [
      "[255. 255. 255.]\n",
      "[1. 1. 1.]\n"
     ]
    }
   ],
   "source": [
    "print(x_train[0][0][0][0])\n",
    "for a in range(len(x_train)):\n",
    "    for b in range(len(x_train[a])):\n",
    "        for c in range(len(x_train[a][b])):\n",
    "                x_train[a][b][c]  =  x_train[a][b][c] / 255\n",
    "\n",
    "print(x_train[0][0][0][0])"
   ]
  },
  {
   "cell_type": "code",
   "execution_count": 9,
   "metadata": {},
   "outputs": [
    {
     "name": "stdout",
     "output_type": "stream",
     "text": [
      "(None, 3, 147, 197, 32)\n",
      "(None, 3, 144, 194, 32)\n",
      "(None, 3, 28, 38, 32)\n",
      "(None, 3, 26, 36, 16)\n",
      "(None, 3, 5, 7, 16)\n",
      "(None, 3, 560)\n",
      "(None, 256)\n",
      "(None, 100)\n",
      "(None, 80)\n",
      "(None, 40)\n",
      "(None, 3)\n",
      "Model: \"sequential_2\"\n",
      "_________________________________________________________________\n",
      "Layer (type)                 Output Shape              Param #   \n",
      "=================================================================\n",
      "time_distributed_12 (TimeDis (None, 3, 147, 197, 32)   1568      \n",
      "_________________________________________________________________\n",
      "time_distributed_13 (TimeDis (None, 3, 147, 197, 32)   0         \n",
      "_________________________________________________________________\n",
      "time_distributed_14 (TimeDis (None, 3, 144, 194, 32)   16416     \n",
      "_________________________________________________________________\n",
      "time_distributed_15 (TimeDis (None, 3, 144, 194, 32)   0         \n",
      "_________________________________________________________________\n",
      "time_distributed_16 (TimeDis (None, 3, 28, 38, 32)     0         \n",
      "_________________________________________________________________\n",
      "time_distributed_17 (TimeDis (None, 3, 28, 38, 32)     0         \n",
      "_________________________________________________________________\n",
      "time_distributed_18 (TimeDis (None, 3, 26, 36, 16)     4624      \n",
      "_________________________________________________________________\n",
      "time_distributed_19 (TimeDis (None, 3, 26, 36, 16)     0         \n",
      "_________________________________________________________________\n",
      "time_distributed_20 (TimeDis (None, 3, 5, 7, 16)       0         \n",
      "_________________________________________________________________\n",
      "time_distributed_21 (TimeDis (None, 3, 5, 7, 16)       0         \n",
      "_________________________________________________________________\n",
      "time_distributed_22 (TimeDis (None, 3, 560)            0         \n",
      "_________________________________________________________________\n",
      "lstm_2 (LSTM)                (None, 256)               836608    \n",
      "_________________________________________________________________\n",
      "dropout_6 (Dropout)          (None, 256)               0         \n",
      "_________________________________________________________________\n",
      "dense_5 (Dense)              (None, 100)               25700     \n",
      "_________________________________________________________________\n",
      "dense_6 (Dense)              (None, 80)                8080      \n",
      "_________________________________________________________________\n",
      "dense_7 (Dense)              (None, 40)                3240      \n",
      "_________________________________________________________________\n",
      "dense_8 (Dense)              (None, 3)                 123       \n",
      "=================================================================\n",
      "Total params: 896,359\n",
      "Trainable params: 896,359\n",
      "Non-trainable params: 0\n",
      "_________________________________________________________________\n"
     ]
    }
   ],
   "source": [
    "from keras.models import Sequential\n",
    "from keras.layers import TimeDistributed, LSTM, Flatten, Dense, InputLayer, MaxPooling2D, Dropout, Activation, Embedding, GRU, ConvLSTM2D\n",
    "from keras.layers.convolutional import Convolution2D\n",
    "from keras import optimizers\n",
    "from keras.models import load_model\n",
    "from keras import initializers\n",
    "\n",
    "model = Sequential()\n",
    "\n",
    "\n",
    "model.add(TimeDistributed(Convolution2D(32, (4,4), data_format='channels_last'), input_shape=(3, 150, 200, 3)))\n",
    "model.add(TimeDistributed(Activation('relu')))\n",
    "print(model.output_shape)\n",
    "\n",
    "model.add(TimeDistributed(Convolution2D(32, (4,4), data_format='channels_last')))\n",
    "model.add(TimeDistributed(Activation('relu')))\n",
    "print(model.output_shape)\n",
    "\n",
    "model.add(TimeDistributed(MaxPooling2D(pool_size=(5, 5), data_format='channels_last')))\n",
    "model.add(TimeDistributed(Dropout(0.25)))\n",
    "print(model.output_shape)\n",
    "\n",
    "model.add(TimeDistributed(Convolution2D(16, (3,3), data_format='channels_last')))\n",
    "model.add(TimeDistributed(Activation('relu')))\n",
    "print(model.output_shape)\n",
    "\n",
    "\n",
    "model.add(TimeDistributed(MaxPooling2D(pool_size=(5, 5), data_format='channels_last')))\n",
    "model.add(TimeDistributed(Dropout(0.25)))\n",
    "print(model.output_shape)\n",
    "\n",
    "model.add(TimeDistributed(Flatten()))\n",
    "print(model.output_shape)\n",
    "\n",
    "model.add(LSTM(256, kernel_initializer=initializers.RandomNormal(stddev=0.001))) #128\n",
    "model.add(Dropout(0.25))\n",
    "print(model.output_shape)\n",
    "\n",
    "model.add(Dense(100))\n",
    "print(model.output_shape)\n",
    "\n",
    "model.add(Dense(80))\n",
    "print(model.output_shape)\n",
    "\n",
    "model.add(Dense(40))\n",
    "print(model.output_shape)\n",
    "\n",
    "model.add(Dense(3, activation='sigmoid'))\n",
    "print(model.output_shape)\n",
    "\n",
    "model.summary()\n"
   ]
  },
  {
   "cell_type": "code",
   "execution_count": 10,
   "metadata": {},
   "outputs": [],
   "source": [
    "opt = optimizers.rmsprop(lr=0.001)\n",
    "model.compile(loss='mean_squared_error', optimizer=opt, metrics=['accuracy'])"
   ]
  },
  {
   "cell_type": "code",
   "execution_count": 11,
   "metadata": {},
   "outputs": [
    {
     "name": "stdout",
     "output_type": "stream",
     "text": [
      "Epoch 1/10\n",
      "7239/7239 [==============================] - 133s 18ms/step - loss: 0.1418 - accuracy: 0.6929\n",
      "Epoch 2/10\n",
      "7239/7239 [==============================] - 87s 12ms/step - loss: 0.0980 - accuracy: 0.8011\n",
      "Epoch 3/10\n",
      "7239/7239 [==============================] - 87s 12ms/step - loss: 0.0834 - accuracy: 0.8369\n",
      "Epoch 4/10\n",
      "7239/7239 [==============================] - 86s 12ms/step - loss: 0.0735 - accuracy: 0.8591\n",
      "Epoch 5/10\n",
      "7239/7239 [==============================] - 87s 12ms/step - loss: 0.0677 - accuracy: 0.8732\n",
      "Epoch 6/10\n",
      "7239/7239 [==============================] - 86s 12ms/step - loss: 0.0625 - accuracy: 0.8820\n",
      "Epoch 7/10\n",
      "7239/7239 [==============================] - 86s 12ms/step - loss: 0.0591 - accuracy: 0.8882\n",
      "Epoch 8/10\n",
      "7239/7239 [==============================] - 86s 12ms/step - loss: 0.0570 - accuracy: 0.8945\n",
      "Epoch 9/10\n",
      "7239/7239 [==============================] - 86s 12ms/step - loss: 0.0521 - accuracy: 0.9044\n",
      "Epoch 10/10\n",
      "7239/7239 [==============================] - 86s 12ms/step - loss: 0.0518 - accuracy: 0.9026\n"
     ]
    },
    {
     "data": {
      "text/plain": [
       "<keras.callbacks.callbacks.History at 0x18efb96dd48>"
      ]
     },
     "execution_count": 11,
     "metadata": {},
     "output_type": "execute_result"
    }
   ],
   "source": [
    "model.fit(x_train,y_train,\n",
    "          batch_size=10,\n",
    "          epochs=10,\n",
    "          verbose=1)\n",
    "\n"
   ]
  },
  {
   "cell_type": "code",
   "execution_count": 12,
   "metadata": {},
   "outputs": [],
   "source": [
    "model.save(\"prova.h5\")"
   ]
  },
  {
   "cell_type": "code",
   "execution_count": null,
   "metadata": {},
   "outputs": [],
   "source": []
  },
  {
   "cell_type": "code",
   "execution_count": 93,
   "metadata": {},
   "outputs": [
    {
     "name": "stdout",
     "output_type": "stream",
     "text": [
      "[array([2], dtype=int64), array([2], dtype=int64), array([5], dtype=int64), array([0], dtype=int64), array([1], dtype=int64), array([2], dtype=int64), array([3], dtype=int64), array([0], dtype=int64), array([1], dtype=int64), array([1], dtype=int64), array([1], dtype=int64), array([1], dtype=int64), array([3], dtype=int64), array([1], dtype=int64), array([0], dtype=int64), array([2], dtype=int64), array([5], dtype=int64), array([1], dtype=int64), array([1], dtype=int64), array([3], dtype=int64), array([2], dtype=int64), array([5], dtype=int64), array([5], dtype=int64), array([2], dtype=int64), array([4], dtype=int64), array([2], dtype=int64), array([0], dtype=int64), array([5], dtype=int64), array([0], dtype=int64), array([1], dtype=int64), array([4], dtype=int64), array([1], dtype=int64), array([0], dtype=int64), array([3], dtype=int64), array([0], dtype=int64), array([0], dtype=int64), array([2], dtype=int64), array([3], dtype=int64), array([5], dtype=int64), array([0], dtype=int64), array([0], dtype=int64), array([5], dtype=int64), array([2], dtype=int64), array([2], dtype=int64), array([4], dtype=int64), array([5], dtype=int64), array([4], dtype=int64), array([3], dtype=int64), array([3], dtype=int64), array([2], dtype=int64), array([4], dtype=int64), array([2], dtype=int64), array([4], dtype=int64), array([0], dtype=int64), array([2], dtype=int64), array([3], dtype=int64), array([3], dtype=int64), array([3], dtype=int64), array([1], dtype=int64), array([0], dtype=int64), array([4], dtype=int64), array([1], dtype=int64), array([0], dtype=int64), array([5], dtype=int64), array([1], dtype=int64), array([0], dtype=int64), array([3], dtype=int64), array([5], dtype=int64), array([4], dtype=int64), array([2], dtype=int64), array([2], dtype=int64), array([4], dtype=int64), array([2], dtype=int64), array([4], dtype=int64), array([5], dtype=int64), array([2], dtype=int64), array([1], dtype=int64), array([2], dtype=int64), array([2], dtype=int64), array([3], dtype=int64), array([3], dtype=int64), array([3], dtype=int64), array([5], dtype=int64), array([2], dtype=int64), array([0], dtype=int64), array([5], dtype=int64), array([2], dtype=int64), array([5], dtype=int64), array([4], dtype=int64), array([2], dtype=int64), array([3], dtype=int64), array([3], dtype=int64), array([3], dtype=int64), array([1], dtype=int64), array([4], dtype=int64), array([3], dtype=int64), array([2], dtype=int64), array([5], dtype=int64), array([5], dtype=int64), array([1], dtype=int64)]\n"
     ]
    }
   ],
   "source": [
    "results = []\n",
    "for x in range(100):\n",
    "    data = np.array(x_train[x])\n",
    "    data = data.reshape(-1, 3, 150, 200, 3)\n",
    "    prediction = model.predict_classes(data)\n",
    "    results.append(prediction)\n",
    "print(results)"
   ]
  },
  {
   "cell_type": "code",
   "execution_count": 13,
   "metadata": {},
   "outputs": [
    {
     "ename": "NameError",
     "evalue": "name 'data' is not defined",
     "output_type": "error",
     "traceback": [
      "\u001b[1;31m---------------------------------------------------------------------------\u001b[0m",
      "\u001b[1;31mNameError\u001b[0m                                 Traceback (most recent call last)",
      "\u001b[1;32m<ipython-input-13-3bc9b7fe6976>\u001b[0m in \u001b[0;36m<module>\u001b[1;34m\u001b[0m\n\u001b[1;32m----> 1\u001b[1;33m \u001b[0mprediction\u001b[0m \u001b[1;33m=\u001b[0m \u001b[0mmodel\u001b[0m\u001b[1;33m.\u001b[0m\u001b[0mpredict_classes\u001b[0m\u001b[1;33m(\u001b[0m\u001b[0mdata\u001b[0m\u001b[1;33m)\u001b[0m\u001b[1;33m\u001b[0m\u001b[1;33m\u001b[0m\u001b[0m\n\u001b[0m\u001b[0;32m      2\u001b[0m \u001b[0mprint\u001b[0m\u001b[1;33m(\u001b[0m\u001b[0mprediction\u001b[0m\u001b[1;33m)\u001b[0m\u001b[1;33m\u001b[0m\u001b[1;33m\u001b[0m\u001b[0m\n",
      "\u001b[1;31mNameError\u001b[0m: name 'data' is not defined"
     ]
    }
   ],
   "source": [
    "prediction = model.predict_classes(data)\n",
    "print(prediction)"
   ]
  },
  {
   "cell_type": "code",
   "execution_count": 7,
   "metadata": {},
   "outputs": [],
   "source": [
    "def get_grb():\n",
    "    grb = Grabber(bbox=(1,26,801,626))\n",
    "    grabbedscreen = None\n",
    "    grabbedscreen = grb.grab(grabbedscreen)\n",
    "    img_resized = cv2.resize(grabbedscreen, (200,150))\n",
    "    final_img = np.array(img_resized)\n",
    "    return final_img\n",
    "    "
   ]
  },
  {
   "cell_type": "code",
   "execution_count": 8,
   "metadata": {},
   "outputs": [],
   "source": [
    "keyList = []\n",
    "for char in \"P\":\n",
    "    keyList.append(char)\n",
    "\n",
    "def key_check():\n",
    "    keys = []\n",
    "    for key in keyList:\n",
    "        if wapi.GetAsyncKeyState(ord(key)):\n",
    "            keys.append(key)\n",
    "    return keys"
   ]
  },
  {
   "cell_type": "code",
   "execution_count": 9,
   "metadata": {},
   "outputs": [],
   "source": [
    "def key_activator(key):\n",
    "    keyboard.release(\"w\")\n",
    "    keyboard.release(\"a\")\n",
    "    keyboard.release(\"d\")\n",
    "    \n",
    "    if key == 0:\n",
    "        keyboard.press(\"w\")\n",
    "        \n",
    "    elif key == 1:\n",
    "        keyboard.press(\"w\")\n",
    "        keyboard.press(\"a\")\n",
    "\n",
    "    elif key == 2:\n",
    "        keyboard.press(\"w\")\n",
    "        keyboard.press(\"d\")\n",
    "\n",
    "    else:\n",
    "        print(\"Error\")"
   ]
  },
  {
   "cell_type": "code",
   "execution_count": 13,
   "metadata": {},
   "outputs": [
    {
     "name": "stdout",
     "output_type": "stream",
     "text": [
      "Starting\n",
      "Stopped\n"
     ]
    }
   ],
   "source": [
    "import time\n",
    "from pynput.keyboard import Controller\n",
    "from grabber import Grabber\n",
    "import win32api as wapi\n",
    "keyboard = Controller()\n",
    "def director():\n",
    "    running = True\n",
    "    time.sleep(5)\n",
    "    print(\"Starting\")\n",
    "    while running:\n",
    "    #capture seq\n",
    "        grab_seq = []\n",
    "        for i in range(3):\n",
    "                last_time = time.time()\n",
    "                grab_seq.append(get_grb())\n",
    "                if i > 2:\n",
    "                    waittime = (1.0/capturerate)-(time.time()-last_time)\n",
    "                    if waittime>0.0:\n",
    "                        time.sleep(waittime)\n",
    "        #model predict\n",
    "        img_seq = np.array(grab_seq, dtype=np.float16)\n",
    "\n",
    "        for a in range(len(img_seq)):\n",
    "            for b in range(len(img_seq[a])):\n",
    "                img_seq[a][b]  =  img_seq[a][b] / 255\n",
    "        \n",
    "        img_seq = img_seq.reshape(-1, 3, 150, 200, 3)\n",
    "\n",
    "        prediction = model.predict_classes(img_seq)\n",
    "\n",
    "        key_activator(prediction)\n",
    "        \n",
    "        keys = key_check()\n",
    "        if \"P\" in keys:\n",
    "            running = False\n",
    "            keyboard.release(\"w\")\n",
    "            keyboard.release(\"a\")\n",
    "            keyboard.release(\"d\")\n",
    "            print(\"Stopped\")\n",
    "director()    "
   ]
  },
  {
   "cell_type": "code",
   "execution_count": null,
   "metadata": {},
   "outputs": [],
   "source": [
    "awwwwwwaaaawwawawawawawwwwwwwwwwwwwwwawawawawawawwwwwwwwwwwwwwwwwwwwwwwwwwwwwwwwwwwwwwwwwwwwawwwwwwwwwwwwwwwwawawawwwwwwwwwwwwwwdwdwdwdwdwdwdwwwwwwawwwwwwwwwwwwwwwdwdwwwwwwwwwdwdwdwwwwwwwwwwwwwwwwwwwwwwwwwdwdwdwdwdwwwwawawawawawwwwdwdwdwwwwwwwwwwwwwwwwwwwwwwwdwdwdwdwwwwwwwwwwwwwwwwwwwdwdwdwdwdwwwwwwwwwwwwwwwdwdwdwdwdwwwwwwwwwdwdwdwdwdwdwwwwwwwwwwwwwwwwwwdwawdwdwawawawawawdwdwdwdwdwdwdwdwdwawawawawawawawawawawdwdwdwdwdwdwdwdwdwawawawawawawawawawawawdwdwdwdwdwdwdwdwdwdwawawawawawawawawawawawawdwdwdwdwdwdwdwdwdwawawawawawawawawawawawdwdwdwdwdwdwdwdwdwdwdwdwdwawawawawawawawawawawawawawawawawdwdwdwdwdwdwdwdwdwdwdwdwdwdwawawawawawawawawawawawawdwdwdwdwdwdwdwdwdwdwawawawawawawawawdwdwdwdwdwdwdwdwdwdwdwawawdwawawawawawawawdwdwdwdwdwdwdwdwdwdwdwdwdwdwdwdwdwdwdwdwdwdwdwdwdwdwdwdwdwdwdwapwawawawdwdwdwdwdwawawawawawawawawawawawawawawawwwwa"
   ]
  },
  {
   "cell_type": "code",
   "execution_count": null,
   "metadata": {},
   "outputs": [],
   "source": []
  }
 ],
 "metadata": {
  "kernelspec": {
   "display_name": "Python 3",
   "language": "python",
   "name": "python3"
  },
  "language_info": {
   "codemirror_mode": {
    "name": "ipython",
    "version": 3
   },
   "file_extension": ".py",
   "mimetype": "text/x-python",
   "name": "python",
   "nbconvert_exporter": "python",
   "pygments_lexer": "ipython3",
   "version": "3.7.9"
  }
 },
 "nbformat": 4,
 "nbformat_minor": 4
}
