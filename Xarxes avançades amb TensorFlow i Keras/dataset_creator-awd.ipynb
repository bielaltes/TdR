{
 "cells": [
  {
   "cell_type": "code",
   "execution_count": 1,
   "metadata": {
    "scrolled": true
   },
   "outputs": [],
   "source": [
    "import time\n",
    "import cv2\n",
    "import numpy as np\n",
    "from grabber import Grabber\n",
    "import win32api as win32"
   ]
  },
  {
   "cell_type": "code",
   "execution_count": 3,
   "metadata": {},
   "outputs": [],
   "source": [
    "def data_finder():\n",
    "    \n",
    "    global old_training_data_balanced\n",
    "    global training_data\n",
    "    \n",
    "    previous_data = \"training_data.npy\"\n",
    "\n",
    "    if os.path.isfile(previous_data):\n",
    "        print(\"Loading previous data\")\n",
    "        old_training_data_balanced = list(np.load(previous_data, allow_pickle=True))\n",
    "    else:\n",
    "        print(\"Starting new files\")\n",
    "        training_data = []"
   ]
  },
  {
   "cell_type": "code",
   "execution_count": 4,
   "metadata": {},
   "outputs": [],
   "source": [
    "def get_grb():\n",
    "    grb = Grabber(bbox=(1,26,801,626))\n",
    "    grabbedscreen = None\n",
    "    grabbedscreen = grb.grab(grabbedscreen)\n",
    "    img_resized = cv2.resize(grabbedscreen, (200,150))\n",
    "    final_img = np.array(img_resized)\n",
    "    return final_img\n",
    "    "
   ]
  },
  {
   "cell_type": "code",
   "execution_count": 5,
   "metadata": {},
   "outputs": [],
   "source": [
    "keyList = []\n",
    "for char in \"WASDP\":\n",
    "    keyList.append(char)\n",
    "\n",
    "def key_check():\n",
    "    keys = []\n",
    "    for key in keyList:\n",
    "        if win32.GetAsyncKeyState(ord(key)):\n",
    "            keys.append(key)\n",
    "    return keys"
   ]
  },
  {
   "cell_type": "code",
   "execution_count": 6,
   "metadata": {},
   "outputs": [],
   "source": [
    "def key_to_multihot():\n",
    "    multihot = [0,0,0,0,0]\n",
    "    keys = key_check()\n",
    "    if len(keys) == 1: \n",
    "        if  'W' in keys:\n",
    "            multihot[0] = 1\n",
    "        elif \"P\" in keys:\n",
    "            multihot[4] = 1\n",
    "        else:\n",
    "            multihot[3] = 1   \n",
    "    elif len(keys) == 2:\n",
    "        if \"W\" and \"A\" in keys:\n",
    "            multihot[1] = 1\n",
    "        elif \"W\" and \"D\" in keys:\n",
    "            multihot[2] = 1\n",
    "        else:\n",
    "            multihot[3] = 1\n",
    "    else:\n",
    "        multihot[3] = 1\n",
    "    \n",
    "    return multihot\n",
    "\n"
   ]
  },
  {
   "cell_type": "code",
   "execution_count": 7,
   "metadata": {},
   "outputs": [],
   "source": [
    "def balance_data():\n",
    "    global training_data\n",
    "    global training_data_balanced\n",
    "    global old_training_data_balanced\n",
    "    global new_training_data_balanced\n",
    "    w = []\n",
    "    wa = []\n",
    "    wd = []\n",
    "    \n",
    "    for data in range(len(training_data)):\n",
    "        img = training_data[data][0]\n",
    "        output = training_data[data][1]\n",
    "        \n",
    "        if output == [1,0,0,0,0]:\n",
    "            w.append([img, output])\n",
    "        elif output == [0,1,0,0,0]:\n",
    "            wa.append([img, output])\n",
    "        elif output == [0,0,1,0,0]:\n",
    "            wd.append([img, output])\n",
    "        else:\n",
    "            print(\"error\")\n",
    "            \n",
    "    w = w[:len(wa)][:len(wd)]\n",
    "    wa = wa[:len(w)]\n",
    "    wd = wd[:len(w)]\n",
    "    \n",
    "    print(len(w))\n",
    "    print(len(wa))\n",
    "    print(len(wd))\n",
    "    \n",
    "    training_data_balanced = w+wa+wd\n",
    "    new_training_data_balanced = training_data_balanced + old_training_data_balanced\n",
    "    random.shuffle(new_training_data_balanced)\n",
    "    \n",
    "    np.save('training_data.npy',new_training_data_balanced)  \n",
    "    print(\"Finished\")"
   ]
  },
  {
   "cell_type": "code",
   "execution_count": 9,
   "metadata": {},
   "outputs": [
    {
     "name": "stdout",
     "output_type": "stream",
     "text": [
      "Loading previous data\n",
      "Starting...\n",
      "1275\n",
      "138\n",
      "138\n",
      "138\n",
      "Finished\n"
     ]
    }
   ],
   "source": [
    "def director(): \n",
    "    global training_data\n",
    "    data_finder()\n",
    "    capturerate = 30\n",
    "    running = bool\n",
    "    img_seq = []\n",
    "    training_data = []\n",
    "    time.sleep(10)\n",
    "    print(\"Starting...\")\n",
    "    while running:\n",
    "        for i in range(3):\n",
    "            last_time = time.time()\n",
    "            img_seq.append(get_grb())\n",
    "            if i > 2:\n",
    "                waittime = (1.0/capturerate)-(time.time()-last_time)\n",
    "                if waittime>0.0:\n",
    "                    time.sleep(waittime)\n",
    "        img_seq = []\n",
    "        multihot = key_to_multihot()\n",
    "        if multihot[3] == 1:\n",
    "            pass\n",
    "        elif multihot[4] == 1:\n",
    "            running = False\n",
    "            print(len(training_data))\n",
    "            balance_data()\n",
    "            \n",
    "        else:\n",
    "            training_data.append([img_seq, multihot])\n",
    "            \n",
    "        waittime = (1.0/capturerate)-(time.time()-last_time)\n",
    "        if waittime>0.0:\n",
    "            time.sleep(waittime)    \n",
    "            \n",
    "      \n",
    "director()\n"
   ]
  },
  {
   "cell_type": "code",
   "execution_count": null,
   "metadata": {},
   "outputs": [],
   "source": [
    "wdddddddddddadsddwaadwwwwdsdwsawwaawaaaaaaaaaaaaaaaaaaaaaaaaaaaaaaaaaaaaaaaaaaaaddddddddddddddddddaaaaaaaaaaaaddddddddaaaaddddaaaaaaadddddddaaaaadpssssssssssssssssssssssssssss"
   ]
  },
  {
   "cell_type": "code",
   "execution_count": 11,
   "metadata": {},
   "outputs": [
    {
     "name": "stdout",
     "output_type": "stream",
     "text": [
      "1275\n",
      "7239\n"
     ]
    }
   ],
   "source": [
    "print(len(training_data))\n",
    "print(len(new_training_data_balanced))\n"
   ]
  },
  {
   "cell_type": "code",
   "execution_count": 1,
   "metadata": {},
   "outputs": [],
   "source": []
  },
  {
   "cell_type": "code",
   "execution_count": 9,
   "metadata": {},
   "outputs": [
    {
     "name": "stdout",
     "output_type": "stream",
     "text": [
      "hola\n"
     ]
    }
   ],
   "source": []
  },
  {
   "cell_type": "code",
   "execution_count": null,
   "metadata": {},
   "outputs": [],
   "source": []
  }
 ],
 "metadata": {
  "kernelspec": {
   "display_name": "Python 3",
   "language": "python",
   "name": "python3"
  },
  "language_info": {
   "codemirror_mode": {
    "name": "ipython",
    "version": 3
   },
   "file_extension": ".py",
   "mimetype": "text/x-python",
   "name": "python",
   "nbconvert_exporter": "python",
   "pygments_lexer": "ipython3",
   "version": "3.7.9"
  }
 },
 "nbformat": 4,
 "nbformat_minor": 4
}
