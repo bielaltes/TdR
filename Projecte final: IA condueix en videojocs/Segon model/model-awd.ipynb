{
 "cells": [
  {
   "cell_type": "code",
   "execution_count": 1,
   "metadata": {},
   "outputs": [
    {
     "name": "stdout",
     "output_type": "stream",
     "text": [
      "2.1.0\n",
      "[PhysicalDevice(name='/physical_device:GPU:0', device_type='GPU')]\n",
      "Num GPUs Available:  1\n",
      "2.2.4-tf\n"
     ]
    }
   ],
   "source": [
    "import tensorflow as tf\n",
    "print(tf.__version__)\n",
    "print(tf.config.list_physical_devices('GPU'))\n",
    "print(\"Num GPUs Available: \", len(tf.config.experimental.list_physical_devices('GPU')))\n",
    "import numpy as np\n",
    "import matplotlib.pyplot as plt\n",
    "import cv2\n",
    "from tensorflow import keras\n",
    "print(keras.__version__)"
   ]
  },
  {
   "cell_type": "code",
   "execution_count": 2,
   "metadata": {},
   "outputs": [
    {
     "name": "stdout",
     "output_type": "stream",
     "text": [
      "1 Physical GPUs, 1 Logical GPUs\n"
     ]
    }
   ],
   "source": [
    "gpus = tf.config.experimental.list_physical_devices('GPU')\n",
    "if gpus:\n",
    "    # Restrict TensorFlow to only allocate 1GB * 2 of memory on the first GPU\n",
    "    try:\n",
    "        tf.config.experimental.set_virtual_device_configuration(\n",
    "            gpus[0],\n",
    "            [tf.config.experimental.VirtualDeviceConfiguration(memory_limit=1024 * 2)])\n",
    "        logical_gpus = tf.config.experimental.list_logical_devices('GPU')\n",
    "        print(len(gpus), \"Physical GPUs,\", len(logical_gpus), \"Logical GPUs\")\n",
    "    except RuntimeError as e:\n",
    "        # Virtual devices must be set before GPUs have been initialized\n",
    "        print(e)"
   ]
  },
  {
   "cell_type": "code",
   "execution_count": 2,
   "metadata": {},
   "outputs": [],
   "source": [
    "\n",
    "training_data = np.load('training_data.npy', allow_pickle=True)\n",
    "x_train = []\n",
    "y_train = []\n",
    "\n",
    "for x in range(len(training_data)):\n",
    "    x_train.append(training_data[x][0])\n",
    "    y_train.append(training_data[x][1][:3])\n",
    "    \n",
    "x_train = np.array(x_train, dtype=np.float16)\n",
    "y_train = np.array(y_train, dtype=np.float16)\n",
    "\n"
   ]
  },
  {
   "cell_type": "code",
   "execution_count": 3,
   "metadata": {},
   "outputs": [
    {
     "name": "stdout",
     "output_type": "stream",
     "text": [
      "[255. 255. 255.]\n",
      "[1. 1. 1.]\n"
     ]
    }
   ],
   "source": [
    "print(x_train[0][0][0][0])\n",
    "for a in range(len(x_train)):\n",
    "    for b in range(len(x_train[a])):\n",
    "        for c in range(len(x_train[a][b])):\n",
    "            x_train[a][b][c]  =  x_train[a][b][c] / 255\n",
    "\n",
    "print(x_train[0][0][0][0])"
   ]
  },
  {
   "cell_type": "code",
   "execution_count": 4,
   "metadata": {},
   "outputs": [
    {
     "name": "stderr",
     "output_type": "stream",
     "text": [
      "Using TensorFlow backend.\n"
     ]
    },
    {
     "name": "stdout",
     "output_type": "stream",
     "text": [
      "(None, 3, 147, 197, 32)\n",
      "(None, 3, 144, 194, 32)\n",
      "(None, 3, 28, 38, 32)\n",
      "(None, 3, 26, 36, 16)\n",
      "(None, 3, 5, 7, 16)\n",
      "(None, 3, 560)\n",
      "(None, 256)\n",
      "(None, 100)\n",
      "(None, 80)\n",
      "(None, 40)\n",
      "(None, 3)\n",
      "Model: \"sequential_1\"\n",
      "_________________________________________________________________\n",
      "Layer (type)                 Output Shape              Param #   \n",
      "=================================================================\n",
      "time_distributed_1 (TimeDist (None, 3, 147, 197, 32)   1568      \n",
      "_________________________________________________________________\n",
      "time_distributed_2 (TimeDist (None, 3, 147, 197, 32)   0         \n",
      "_________________________________________________________________\n",
      "time_distributed_3 (TimeDist (None, 3, 144, 194, 32)   16416     \n",
      "_________________________________________________________________\n",
      "time_distributed_4 (TimeDist (None, 3, 144, 194, 32)   0         \n",
      "_________________________________________________________________\n",
      "time_distributed_5 (TimeDist (None, 3, 28, 38, 32)     0         \n",
      "_________________________________________________________________\n",
      "time_distributed_6 (TimeDist (None, 3, 28, 38, 32)     0         \n",
      "_________________________________________________________________\n",
      "time_distributed_7 (TimeDist (None, 3, 26, 36, 16)     4624      \n",
      "_________________________________________________________________\n",
      "time_distributed_8 (TimeDist (None, 3, 26, 36, 16)     0         \n",
      "_________________________________________________________________\n",
      "time_distributed_9 (TimeDist (None, 3, 5, 7, 16)       0         \n",
      "_________________________________________________________________\n",
      "time_distributed_10 (TimeDis (None, 3, 5, 7, 16)       0         \n",
      "_________________________________________________________________\n",
      "time_distributed_11 (TimeDis (None, 3, 560)            0         \n",
      "_________________________________________________________________\n",
      "lstm_1 (LSTM)                (None, 256)               836608    \n",
      "_________________________________________________________________\n",
      "dropout_3 (Dropout)          (None, 256)               0         \n",
      "_________________________________________________________________\n",
      "dense_1 (Dense)              (None, 100)               25700     \n",
      "_________________________________________________________________\n",
      "dense_2 (Dense)              (None, 80)                8080      \n",
      "_________________________________________________________________\n",
      "dense_3 (Dense)              (None, 40)                3240      \n",
      "_________________________________________________________________\n",
      "dense_4 (Dense)              (None, 3)                 123       \n",
      "=================================================================\n",
      "Total params: 896,359\n",
      "Trainable params: 896,359\n",
      "Non-trainable params: 0\n",
      "_________________________________________________________________\n"
     ]
    }
   ],
   "source": [
    "from keras.models import Sequential\n",
    "from keras.layers import TimeDistributed, LSTM, Flatten, Dense, InputLayer, MaxPooling2D, Dropout, Activation, Embedding, GRU, ConvLSTM2D\n",
    "from keras.layers.convolutional import Convolution2D\n",
    "from keras import optimizers\n",
    "from keras.models import load_model\n",
    "from keras import initializers\n",
    "\n",
    "model = Sequential()\n",
    "\n",
    "\n",
    "model.add(TimeDistributed(Convolution2D(32, (4,4), data_format='channels_last'), input_shape=(3, 150, 200, 3)))\n",
    "model.add(TimeDistributed(Activation('relu')))\n",
    "print(model.output_shape)\n",
    "\n",
    "model.add(TimeDistributed(Convolution2D(32, (4,4), data_format='channels_last')))\n",
    "model.add(TimeDistributed(Activation('relu')))\n",
    "print(model.output_shape)\n",
    "\n",
    "model.add(TimeDistributed(MaxPooling2D(pool_size=(5, 5), data_format='channels_last')))\n",
    "model.add(TimeDistributed(Dropout(0.25)))\n",
    "print(model.output_shape)\n",
    "\n",
    "model.add(TimeDistributed(Convolution2D(16, (3,3), data_format='channels_last')))\n",
    "model.add(TimeDistributed(Activation('relu')))\n",
    "print(model.output_shape)\n",
    "\n",
    "\n",
    "model.add(TimeDistributed(MaxPooling2D(pool_size=(5, 5), data_format='channels_last')))\n",
    "model.add(TimeDistributed(Dropout(0.25)))\n",
    "print(model.output_shape)\n",
    "\n",
    "model.add(TimeDistributed(Flatten()))\n",
    "print(model.output_shape)\n",
    "\n",
    "model.add(LSTM(256, kernel_initializer=initializers.RandomNormal(stddev=0.001))) #128\n",
    "model.add(Dropout(0.25))\n",
    "print(model.output_shape)\n",
    "\n",
    "model.add(Dense(100))\n",
    "print(model.output_shape)\n",
    "\n",
    "model.add(Dense(80))\n",
    "print(model.output_shape)\n",
    "\n",
    "model.add(Dense(40))\n",
    "print(model.output_shape)\n",
    "\n",
    "model.add(Dense(3, activation='sigmoid'))\n",
    "print(model.output_shape)\n",
    "\n",
    "model.summary()\n"
   ]
  },
  {
   "cell_type": "code",
   "execution_count": 5,
   "metadata": {},
   "outputs": [],
   "source": [
    "opt = optimizers.RMSprop(lr=0.001)\n",
    "model.compile(loss='mean_squared_error', optimizer=opt, metrics=['accuracy'])"
   ]
  },
  {
   "cell_type": "code",
   "execution_count": 6,
   "metadata": {},
   "outputs": [
    {
     "name": "stdout",
     "output_type": "stream",
     "text": [
      "Epoch 1/5\n",
      "6918/6918 [==============================] - 40s 6ms/step - loss: 0.1368 - accuracy: 0.6996\n",
      "Epoch 2/5\n",
      "6918/6918 [==============================] - 35s 5ms/step - loss: 0.0861 - accuracy: 0.8290\n",
      "Epoch 3/5\n",
      "6918/6918 [==============================] - 35s 5ms/step - loss: 0.0689 - accuracy: 0.8648\n",
      "Epoch 4/5\n",
      "6918/6918 [==============================] - 35s 5ms/step - loss: 0.0537 - accuracy: 0.8948\n",
      "Epoch 5/5\n",
      "6918/6918 [==============================] - 35s 5ms/step - loss: 0.0398 - accuracy: 0.9243\n"
     ]
    },
    {
     "data": {
      "text/plain": [
       "<keras.callbacks.callbacks.History at 0x246c69fbb08>"
      ]
     },
     "execution_count": 6,
     "metadata": {},
     "output_type": "execute_result"
    }
   ],
   "source": [
    "model.fit(x_train,y_train,\n",
    "          batch_size=20,\n",
    "          epochs=5,\n",
    "          verbose=1)\n",
    "\n"
   ]
  },
  {
   "cell_type": "code",
   "execution_count": 7,
   "metadata": {},
   "outputs": [],
   "source": [
    "model.save(\"model_awd.h5\")"
   ]
  },
  {
   "cell_type": "code",
   "execution_count": 9,
   "metadata": {},
   "outputs": [
    {
     "name": "stdout",
     "output_type": "stream",
     "text": [
      "[0, 1, 0, 0, 0, 0]\n"
     ]
    }
   ],
   "source": [
    "print(training_data[427][1])"
   ]
  },
  {
   "cell_type": "code",
   "execution_count": null,
   "metadata": {},
   "outputs": [],
   "source": []
  }
 ],
 "metadata": {
  "kernelspec": {
   "display_name": "Python 3",
   "language": "python",
   "name": "python3"
  },
  "language_info": {
   "codemirror_mode": {
    "name": "ipython",
    "version": 3
   },
   "file_extension": ".py",
   "mimetype": "text/x-python",
   "name": "python",
   "nbconvert_exporter": "python",
   "pygments_lexer": "ipython3",
   "version": "3.7.9"
  }
 },
 "nbformat": 4,
 "nbformat_minor": 4
}
