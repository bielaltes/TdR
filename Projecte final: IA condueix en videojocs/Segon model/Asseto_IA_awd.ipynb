{
 "cells": [
  {
   "cell_type": "code",
   "execution_count": 1,
   "metadata": {},
   "outputs": [
    {
     "name": "stdout",
     "output_type": "stream",
     "text": [
      "2.1.0\n",
      "[PhysicalDevice(name='/physical_device:GPU:0', device_type='GPU')]\n",
      "Num GPUs Available:  1\n",
      "2.2.4-tf\n"
     ]
    }
   ],
   "source": [
    "import tensorflow as tf\n",
    "print(tf.__version__)\n",
    "print(tf.config.list_physical_devices('GPU'))\n",
    "print(\"Num GPUs Available: \", len(tf.config.experimental.list_physical_devices('GPU')))\n",
    "import numpy as np\n",
    "import matplotlib.pyplot as plt\n",
    "import cv2\n",
    "import time\n",
    "from grabber import Grabber\n",
    "import win32api as wapi\n",
    "from tensorflow import keras\n",
    "print(keras.__version__)\n",
    "from pynput.keyboard import Controller\n",
    "keyboard = Controller()"
   ]
  },
  {
   "cell_type": "code",
   "execution_count": 2,
   "metadata": {},
   "outputs": [
    {
     "name": "stdout",
     "output_type": "stream",
     "text": [
      "1 Physical GPUs, 1 Logical GPUs\n"
     ]
    }
   ],
   "source": [
    "gpus = tf.config.experimental.list_physical_devices('GPU')\n",
    "if gpus:\n",
    "    # Restrict TensorFlow to only allocate 1GB * 2 of memory on the first GPU\n",
    "    try:\n",
    "        tf.config.experimental.set_virtual_device_configuration(\n",
    "            gpus[0],\n",
    "            [tf.config.experimental.VirtualDeviceConfiguration(memory_limit=1024 * 2)])\n",
    "        logical_gpus = tf.config.experimental.list_logical_devices('GPU')\n",
    "        print(len(gpus), \"Physical GPUs,\", len(logical_gpus), \"Logical GPUs\")\n",
    "    except RuntimeError as e:\n",
    "        # Virtual devices must be set before GPUs have been initialized\n",
    "        print(e)"
   ]
  },
  {
   "cell_type": "code",
   "execution_count": 3,
   "metadata": {},
   "outputs": [],
   "source": [
    "model = keras.models.load_model('model_awd.h5')"
   ]
  },
  {
   "cell_type": "code",
   "execution_count": 4,
   "metadata": {},
   "outputs": [],
   "source": [
    "def get_grb():\n",
    "    grb = Grabber(bbox=(1,26,801,626))\n",
    "    grabbedscreen = None\n",
    "    grabbedscreen = grb.grab(grabbedscreen)\n",
    "    img_resized = cv2.resize(grabbedscreen, (200,150))\n",
    "    final_img = np.array(img_resized)\n",
    "    return final_img\n",
    "    "
   ]
  },
  {
   "cell_type": "code",
   "execution_count": 5,
   "metadata": {},
   "outputs": [],
   "source": [
    "keyList = []\n",
    "for char in \"P\":\n",
    "    keyList.append(char)\n",
    "\n",
    "def key_check():\n",
    "    keys = []\n",
    "    for key in keyList:\n",
    "        if wapi.GetAsyncKeyState(ord(key)):\n",
    "            keys.append(key)\n",
    "    return keys"
   ]
  },
  {
   "cell_type": "code",
   "execution_count": 6,
   "metadata": {},
   "outputs": [],
   "source": [
    "def key_activator(key):\n",
    "    keyboard.release(\"w\")\n",
    "    keyboard.release(\"a\")\n",
    "    keyboard.release(\"d\")\n",
    "    \n",
    "    if key == 0:\n",
    "        keyboard.press(\"w\")\n",
    "        \n",
    "    elif key == 1:\n",
    "        keyboard.press(\"w\")\n",
    "        keyboard.press(\"a\")\n",
    "\n",
    "    elif key == 2:\n",
    "        keyboard.press(\"w\")\n",
    "        keyboard.press(\"d\")\n",
    "\n",
    "    else:\n",
    "        print(\"Error\")"
   ]
  },
  {
   "cell_type": "code",
   "execution_count": 10,
   "metadata": {},
   "outputs": [
    {
     "name": "stdout",
     "output_type": "stream",
     "text": [
      "Starting\n",
      "Stopped\n"
     ]
    }
   ],
   "source": [
    "def __main__():\n",
    "    running = True\n",
    "    time.sleep(5)\n",
    "    print(\"Starting\")\n",
    "    capturerate = 30\n",
    "    while running:\n",
    "    #capture seq\n",
    "        grab_seq = []\n",
    "        for i in range(3):\n",
    "                last_time = time.time()\n",
    "                grab_seq.append(get_grb())\n",
    "                if i > 2:\n",
    "                    waittime = (1.0/capturerate)-(time.time()-last_time)\n",
    "                    if waittime>0.0:\n",
    "                        time.sleep(waittime)\n",
    "        #model predict\n",
    "        img_seq = np.array(grab_seq, dtype=np.float16)\n",
    "\n",
    "        for a in range(len(img_seq)):\n",
    "            for b in range(len(img_seq[a])):\n",
    "                img_seq[a][b]  =  img_seq[a][b] / 255\n",
    "        \n",
    "        img_seq = img_seq.reshape(-1, 3, 150, 200, 3)\n",
    "\n",
    "        prediction = model.predict_classes(img_seq)\n",
    "\n",
    "        key_activator(prediction)\n",
    "        \n",
    "        keys = key_check()\n",
    "        if \"P\" in keys:\n",
    "            running = False\n",
    "            keyboard.release(\"w\")\n",
    "            keyboard.release(\"a\")\n",
    "            keyboard.release(\"d\")\n",
    "            print(\"Stopped\")\n",
    "__main__() "
   ]
  },
  {
   "cell_type": "code",
   "execution_count": null,
   "metadata": {},
   "outputs": [],
   "source": [
    "dwdadawwwwwwwwwwawwwwdwwwwwwwwwwwwwwwwwwwwwwwwwdwdwwwwwwwwwdwdwdwdwwwwwwwwwwwwwwwwwwwwwwwwwwdwdwdwwwwwwwwwwwwwwwwwwwwdwdwdwwwwwwwwwwwwwwwwwwwwwwwwwwwwwwwwwwdwdwdwdwwwwwwwwwwwwwwdwwdwdwdwwwdwawawawawdwdwwdwdwdwdwdwdwdwwwwwawawdwdwdwdwdwdwwawawwwwwwwwwwwwdwdwdwdwdwwwwawawawawawwdwdwdwdwdwdwwwawawawawawawwwdwdwdwdwdwdwwwawawawawawawawwdwdwdwdwdwdwdwwwawawawawawawwwdwdwdwdwdwwwawawawawawawawawwdwdwdwdwdwdwwwawawawawawawawawdwdwdwdwdwdwdwdwwawawawawawawawwwdwdwdwdwdwwwawawawawawawawwwdwdwdwdwdwdwdwwwwawawawawawawwwdwdwdwdwdwdwawawawawawawawawawawwdwdwdwdwdwdwdwdwdwawawawawawawawawawawawawwwwwdwdwdwdwwawawawawawwwdwdwdwdwdwdwwwwwwwwwdwdwdwdwdwdwwdwdwdwdwdwdwdwwwdwdwwdwdwdwawawawawawawawdwdwdwdwdwdwwwdwwwawawawawawwdwdwdwdwdwdwdwdwdwdwdwdwdwdwdwdwwawawawawawawwwdwdwdwdwwwawawawawdwdwdwdwdwdwawdwdwdwawawawawawawawawawawawawawawawawawawawawawawawawawawawawawawawawawawawdwdwwwwwdwdwdwdwdwawawawawawawawawdwdwdwdwdwdwdwdwdwdwdwdwdwdwdwdwdwdwdwdwdwdwdwdwdwdwdwdwdwdwawawawawawawawawawawwwwawawawawawawawawawawawawawawawawawawawawawawawawwwwwdwdwdwdwdwwwwawawawawawawwwdwdwdwdwdwwwwawawawawawdwdwdwdwdwdwawwawawawawawawwdwdwdwdwdwdwdwdwdwdwawawawawawawawawawdwdwdwdwdwdwdwdwdwdwdwdwdwdwdwdwdwdwdwdwdwdwdwdwdwdwdwdwdwdwdwdwdwdwdwdwdwdwdwdwdwdwdwawdwdwdwdwawawawdwdwawawawawawawawawawawawawawawawawawdwdwdwdwdwdwdwdwdwdwdwdwdwawawawawawawawawawawawawawawawawawwdwdwdwdwdwdwdwwawawawawawawawwdwdwdwdwdwdwdwdwwwawawawawawawawawdwdwdwdwdwdwdwdwdwdwdwdwwawawawawawawawawawawawawawawdwdwdwdwdwdwdwdwdwdwdwdwdwdwwwawawawawawawawawawawawawawawawdwdwdwdwdwdwdwdwdwdwawawawawawawawawawdwdwdwdwdwdwdwdwawawawawawawawawawwdwdwdwdwdwdwdwdwwawawawawawawawawawdwdwdwdwdwdwdwdwwdwwawawawawawawdwdwdwdwdwawdwdwdwdwawdwawdwdwdwdwdwdwdwawawawawawawawawawawdwdwdwdwdpwdsd"
   ]
  },
  {
   "cell_type": "code",
   "execution_count": null,
   "metadata": {},
   "outputs": [],
   "source": [
    "keyboard.release(\"w\")\n",
    "keyboard.release(\"a\")\n",
    "keyboard.release(\"s\")\n",
    "keyboard.release(\"d\")"
   ]
  }
 ],
 "metadata": {
  "kernelspec": {
   "display_name": "Python 3",
   "language": "python",
   "name": "python3"
  },
  "language_info": {
   "codemirror_mode": {
    "name": "ipython",
    "version": 3
   },
   "file_extension": ".py",
   "mimetype": "text/x-python",
   "name": "python",
   "nbconvert_exporter": "python",
   "pygments_lexer": "ipython3",
   "version": "3.7.9"
  }
 },
 "nbformat": 4,
 "nbformat_minor": 4
}
