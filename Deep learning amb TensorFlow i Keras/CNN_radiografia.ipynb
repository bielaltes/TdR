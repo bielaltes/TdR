{
  "nbformat": 4,
  "nbformat_minor": 0,
  "metadata": {
    "colab": {
      "name": "CNN_radiografia.ipynb",
      "provenance": [],
      "collapsed_sections": []
    },
    "kernelspec": {
      "name": "python3",
      "display_name": "Python 3"
    },
    "accelerator": "GPU"
  },
  "cells": [
    {
      "cell_type": "code",
      "metadata": {
        "id": "Sl1ylYJMKxZD",
        "colab": {
          "base_uri": "https://localhost:8080/"
        },
        "outputId": "eab3c83d-4c86-42c4-9806-78bcd0717d02"
      },
      "source": [
        "%tensorflow_version 2.x\n",
        "import tensorflow as tf\n",
        "from tensorflow import keras\n",
        "import numpy as np\n",
        "import matplotlib.pyplot as plt\n",
        "\n",
        "\n",
        "print(tf.__version__)"
      ],
      "execution_count": null,
      "outputs": [
        {
          "output_type": "stream",
          "text": [
            "2.3.0\n"
          ],
          "name": "stdout"
        }
      ]
    },
    {
      "cell_type": "code",
      "metadata": {
        "id": "UEPYd6aBB1kK",
        "colab": {
          "base_uri": "https://localhost:8080/"
        },
        "outputId": "eca901b8-72c4-4fb0-f61c-586dd5aeee9f"
      },
      "source": [
        "from google.colab import drive\n",
        "drive.mount('/content/drive')"
      ],
      "execution_count": null,
      "outputs": [
        {
          "output_type": "stream",
          "text": [
            "Mounted at /content/drive\n"
          ],
          "name": "stdout"
        }
      ]
    },
    {
      "cell_type": "code",
      "metadata": {
        "id": "sJN-eZ0YBsYl"
      },
      "source": [
        "import os\n",
        "import zipfile\n",
        "\n",
        "local_zip = '/content/drive/My Drive/Treball de recerca/Datasets/17810_23812_bundle_archive.zip'\n",
        "\n",
        "zip = zipfile.ZipFile(local_zip, 'r')\n",
        "\n",
        "zip.extractall('/content')\n",
        "zip.close()\n"
      ],
      "execution_count": null,
      "outputs": []
    },
    {
      "cell_type": "code",
      "metadata": {
        "id": "egXHHHqKIH3Q",
        "colab": {
          "base_uri": "https://localhost:8080/"
        },
        "outputId": "8a708c4f-6f94-4a60-8562-c978f0f16138"
      },
      "source": [
        "!ls /content/chest_xray/test"
      ],
      "execution_count": null,
      "outputs": [
        {
          "output_type": "stream",
          "text": [
            "NORMAL\tPNEUMONIA\n"
          ],
          "name": "stdout"
        }
      ]
    },
    {
      "cell_type": "code",
      "metadata": {
        "id": "ZtsbWwXcBscw"
      },
      "source": [
        "import os\n",
        "dir = '/content/chest_xray'\n",
        "\n",
        "train_dir = os.path.join(dir, 'train')\n",
        "train_normal_dir = os.path.join(dir, 'train/NORMAL')\n",
        "train_pneumonia_dir = os.path.join(dir, 'train/PNEUMONIA')\n",
        "\n",
        "validation_dir = os.path.join(dir, 'val')\n",
        "validation_normal_dir = os.path.join(dir, 'val/NORMAL')\n",
        "validation_pneumonia_dir = os.path.join(dir, 'val/PNEUMONIA')\n",
        "\n",
        "test_dir = os.path.join(dir, 'test')\n",
        "test_normal_dir = os.path.join(dir, 'test/NORMAL')\n",
        "test_pneumonia_dir = os.path.join(dir, 'test/PNEUMONIA')\n",
        "\n"
      ],
      "execution_count": null,
      "outputs": []
    },
    {
      "cell_type": "code",
      "metadata": {
        "id": "cC67mBMnJgbm",
        "colab": {
          "base_uri": "https://localhost:8080/"
        },
        "outputId": "5df40825-f0de-4ea9-b6a5-16e7c993c416"
      },
      "source": [
        "print('total training normal images :', len(os.listdir(train_normal_dir ) ))\n",
        "print('total training pneumonia images :', len(os.listdir(train_pneumonia_dir ) ))\n",
        "\n",
        "print('total validation normal images :', len(os.listdir( validation_normal_dir ) ))\n",
        "print('total validation pneumonia images :', len(os.listdir( validation_pneumonia_dir ) ))\n",
        "\n",
        "print('total test normal images :', len(os.listdir( test_normal_dir ) ))\n",
        "print('total test pneumonia images :', len(os.listdir( test_pneumonia_dir ) ))\n"
      ],
      "execution_count": null,
      "outputs": [
        {
          "output_type": "stream",
          "text": [
            "total training normal images : 1341\n",
            "total training pneumonia images : 3875\n",
            "total validation normal images : 8\n",
            "total validation pneumonia images : 8\n",
            "total test normal images : 234\n",
            "total test pneumonia images : 390\n"
          ],
          "name": "stdout"
        }
      ]
    },
    {
      "cell_type": "code",
      "metadata": {
        "id": "cpKugef4I2B0",
        "colab": {
          "base_uri": "https://localhost:8080/"
        },
        "outputId": "b79126fe-be8f-4fd1-f3b4-298d78ee51b2"
      },
      "source": [
        "from tensorflow.keras.preprocessing.image import ImageDataGenerator\n",
        "\n",
        "train_datagen = ImageDataGenerator( rescale = 1.0/255.  )\n",
        "validation_datagen  = ImageDataGenerator( rescale = 1.0/255. )\n",
        "test_datagen  = ImageDataGenerator( rescale = 1.0/255. )\n",
        "\n",
        "train_generator = train_datagen.flow_from_directory(train_dir,\n",
        "                                                    batch_size=20,\n",
        "                                                    class_mode='binary',\n",
        "                                                    target_size=(200, 200))     \n",
        "\n",
        "validation_generator =  validation_datagen.flow_from_directory(validation_dir,\n",
        "                                                         batch_size=20,\n",
        "                                                         class_mode  = 'binary',\n",
        "                                                         target_size = (200, 200))\n",
        "\n",
        "\n",
        "test_generator =  test_datagen.flow_from_directory(test_dir,\n",
        "                                                         batch_size=20,\n",
        "                                                         class_mode  = 'binary',\n",
        "                                                         target_size = (200, 200))\n"
      ],
      "execution_count": null,
      "outputs": [
        {
          "output_type": "stream",
          "text": [
            "Found 5216 images belonging to 2 classes.\n",
            "Found 16 images belonging to 2 classes.\n",
            "Found 624 images belonging to 2 classes.\n"
          ],
          "name": "stdout"
        }
      ]
    },
    {
      "cell_type": "code",
      "metadata": {
        "id": "sKtkI0yxhVHV",
        "colab": {
          "base_uri": "https://localhost:8080/"
        },
        "outputId": "6724bb8a-3af1-4cb6-c034-44eb33b9553d"
      },
      "source": [
        "weight_for_0 = (len(os.listdir(train_normal_dir )) + len(os.listdir(train_pneumonia_dir ))) / (2 * len(os.listdir(train_normal_dir )))\n",
        "weight_for_1 = (len(os.listdir(train_normal_dir ))+ len(os.listdir(train_pneumonia_dir ))) / (2 * len(os.listdir(train_pneumonia_dir )))\n",
        "\n",
        "class_weight = {0: weight_for_0, 1: weight_for_1}\n",
        "\n",
        "print('Weight for class 0: {:.2f}'.format(weight_for_0))\n",
        "print('Weight for class 1: {:.2f}'.format(weight_for_1))"
      ],
      "execution_count": null,
      "outputs": [
        {
          "output_type": "stream",
          "text": [
            "Weight for class 0: 1.94\n",
            "Weight for class 1: 0.67\n"
          ],
          "name": "stdout"
        }
      ]
    },
    {
      "cell_type": "code",
      "metadata": {
        "id": "_0l8ngplBspl",
        "colab": {
          "base_uri": "https://localhost:8080/"
        },
        "outputId": "f2707fd7-ed02-46d7-bb44-756d4c8dea99"
      },
      "source": [
        "import tensorflow as tf\n",
        "from tensorflow.keras import Model\n",
        "\n",
        "from tensorflow.keras import Sequential\n",
        "from tensorflow.keras.layers import Conv2D, MaxPooling2D, Flatten, Dense\n",
        "\n",
        "model = Sequential()\n",
        "model.add(Conv2D(32, (3,3), activation='relu', input_shape=(200, 200, 3)))\n",
        "model.add(MaxPooling2D(2, 2))\n",
        "model.add(Conv2D(64, (3,3), activation='relu'))\n",
        "model.add(MaxPooling2D(2,2))\n",
        "model.add(Conv2D(128, (3,3), activation='relu'))\n",
        "model.add(MaxPooling2D(2,2))\n",
        "model.add(Flatten())\n",
        "model.add(Dense(64, activation='relu'))\n",
        "model.add(Dense(64, activation='relu'))\n",
        "model.add(Dense(64, activation='relu'))\n",
        "model.add(Dense(1, activation='sigmoid'))\n",
        "model.summary()"
      ],
      "execution_count": null,
      "outputs": [
        {
          "output_type": "stream",
          "text": [
            "Model: \"sequential_1\"\n",
            "_________________________________________________________________\n",
            "Layer (type)                 Output Shape              Param #   \n",
            "=================================================================\n",
            "conv2d_3 (Conv2D)            (None, 198, 198, 32)      896       \n",
            "_________________________________________________________________\n",
            "max_pooling2d_3 (MaxPooling2 (None, 99, 99, 32)        0         \n",
            "_________________________________________________________________\n",
            "conv2d_4 (Conv2D)            (None, 97, 97, 64)        18496     \n",
            "_________________________________________________________________\n",
            "max_pooling2d_4 (MaxPooling2 (None, 48, 48, 64)        0         \n",
            "_________________________________________________________________\n",
            "conv2d_5 (Conv2D)            (None, 46, 46, 128)       73856     \n",
            "_________________________________________________________________\n",
            "max_pooling2d_5 (MaxPooling2 (None, 23, 23, 128)       0         \n",
            "_________________________________________________________________\n",
            "flatten_1 (Flatten)          (None, 67712)             0         \n",
            "_________________________________________________________________\n",
            "dense_4 (Dense)              (None, 64)                4333632   \n",
            "_________________________________________________________________\n",
            "dense_5 (Dense)              (None, 64)                4160      \n",
            "_________________________________________________________________\n",
            "dense_6 (Dense)              (None, 64)                4160      \n",
            "_________________________________________________________________\n",
            "dense_7 (Dense)              (None, 1)                 65        \n",
            "=================================================================\n",
            "Total params: 4,435,265\n",
            "Trainable params: 4,435,265\n",
            "Non-trainable params: 0\n",
            "_________________________________________________________________\n"
          ],
          "name": "stdout"
        }
      ]
    },
    {
      "cell_type": "code",
      "metadata": {
        "id": "IOTnd5RWBsn-"
      },
      "source": [
        "from tensorflow.keras.optimizers import Adam\n",
        "\n",
        "model.compile(optimizer=Adam(lr=1e-4),\n",
        "              loss='binary_crossentropy',\n",
        "              metrics = ['acc'])\n"
      ],
      "execution_count": null,
      "outputs": []
    },
    {
      "cell_type": "code",
      "metadata": {
        "id": "gWbVvdVgVfDE",
        "colab": {
          "base_uri": "https://localhost:8080/"
        },
        "outputId": "221abba3-b52c-4291-9383-b710b85d2a37"
      },
      "source": [
        "history = model.fit(\n",
        "      train_generator,  \n",
        "      epochs=3,\n",
        "      validation_data=validation_generator, \n",
        "      class_weight=class_weight,\n",
        "      verbose=1)\n",
        "\n"
      ],
      "execution_count": null,
      "outputs": [
        {
          "output_type": "stream",
          "text": [
            "Epoch 1/3\n",
            "261/261 [==============================] - 57s 217ms/step - loss: 0.3517 - acc: 0.7671 - val_loss: 0.4795 - val_acc: 0.8750\n",
            "Epoch 2/3\n",
            "261/261 [==============================] - 56s 213ms/step - loss: 0.1195 - acc: 0.9555 - val_loss: 0.2239 - val_acc: 0.8750\n",
            "Epoch 3/3\n",
            "261/261 [==============================] - 56s 213ms/step - loss: 0.1033 - acc: 0.9607 - val_loss: 0.1857 - val_acc: 0.9375\n"
          ],
          "name": "stdout"
        }
      ]
    },
    {
      "cell_type": "code",
      "metadata": {
        "id": "Vs_ur5y7Wi9C",
        "colab": {
          "base_uri": "https://localhost:8080/"
        },
        "outputId": "42b31afe-a8e0-418f-b0a7-d9c39139ff07"
      },
      "source": [
        "test_lost, test_acc= model.evaluate(test_generator)\n",
        "print (\"Test Accuracy:\", test_acc)"
      ],
      "execution_count": null,
      "outputs": [
        {
          "output_type": "stream",
          "text": [
            "32/32 [==============================] - 6s 175ms/step - loss: 0.4319 - acc: 0.8381\n",
            "Test Accuracy: 0.8381410241127014\n"
          ],
          "name": "stdout"
        }
      ]
    }
  ]
}